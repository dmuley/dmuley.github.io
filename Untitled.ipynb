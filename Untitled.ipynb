{
 "cells": [
  {
   "cell_type": "code",
   "execution_count": 40,
   "metadata": {},
   "outputs": [],
   "source": [
    "import numpy as np\n",
    "import matplotlib.pyplot as plt"
   ]
  },
  {
   "cell_type": "markdown",
   "metadata": {},
   "source": [
    "2. Two experiments below are compatible with the true mean to within 1 sigma, while two are compatible with the expected standard deviation to within 1 sigma. The 1-sigma and 2-sigma confidence intervals are compatible with expectations of the 68%-95% CIs for a normal distribution."
   ]
  },
  {
   "cell_type": "code",
   "execution_count": 58,
   "metadata": {
    "scrolled": false
   },
   "outputs": [
    {
     "name": "stdout",
     "output_type": "stream",
     "text": [
      "N\tMean\tsigma\tStderr\t1sigma\t2sigma\tMean consistent\tStd consistent\t\n",
      "8\t3.20339\t1.83284\t1.88982\t0.711\t0.976\t\t\t\n",
      "20\t1.59378\t3.37531\t1.14707\t0.703\t0.969\t\t\t\n",
      "40\t0.71135\t5.34085\t0.80064\t0.679\t0.952\tYes\t\tYes\n",
      "80\t-0.1022\t4.06677\t0.56254\t0.682\t0.964\tYes\t\t\n",
      "800\t0.21907\t5.04540\t0.17688\t0.677\t0.948\t\t\tYes\n"
     ]
    },
    {
     "data": {
      "image/png": "[encoded data removed]",
      "text/plain": [
       "<Figure size 432x288 with 1 Axes>"
      ]
     },
     "metadata": {
      "needs_background": "light"
     },
     "output_type": "display_data"
    }
   ],
   "source": [
    "output_data = []\n",
    "sigma = 5.;\n",
    "N_list = [8,20,40,80,800]\n",
    "M=1000\n",
    "for N in N_list:\n",
    "    q = np.random.randn(M, N) * sigma\n",
    "    avg = np.average(q,axis=1)\n",
    "    plt.hist(avg, bins=50,label=\"N=\"+str(N),density=True)\n",
    "    \n",
    "    mean, std, mean_err = np.average(q[0]), np.std(q[0]), sigma/np.sqrt(N-1)\n",
    "    frac_means_1_sigma, frac_means_2_sigma = len(avg[np.abs(avg) < mean_err])/float(M), len(avg[np.abs(avg) < 2*mean_err])/float(M)\n",
    "    output_data.append((N, mean, std, mean_err, frac_means_1_sigma, frac_means_2_sigma))\n",
    "\n",
    "#plt.xscale('log')\n",
    "plt.yscale('log')\n",
    "plt.legend()\n",
    "\n",
    "output_headers = ['N', 'Mean', 'sigma', 'Stderr', '1sigma', '2sigma', 'Mean consistent', 'Std consistent']\n",
    "for u in range(len(output_data[0]) + 2):\n",
    "    print(output_headers[u]+\"\\t\",end='')\n",
    "print()\n",
    "for u in output_data:\n",
    "    for v in u:\n",
    "        print(str(v)[:7]+\"\\t\",end=''),\n",
    "    if (np.abs(u[1]) < u[3]): \n",
    "        print(\"Yes\\t\\t\",end=\"\")\n",
    "    else:\n",
    "        print(\"\\t\\t\",end='')\n",
    "    if (np.abs(u[2]-sigma) < u[3]): \n",
    "        print(\"Yes\",end='')\n",
    "    print()"
   ]
  },
  {
   "cell_type": "markdown",
   "metadata": {},
   "source": [
    "3. For an exponential distribution, we can integrate the distribution against $X$ and $X^2$ to find that the mean $\\left<X\\right>$ and standard deviation $\\sigma = \\left<X^2\\right> - \\left<X\\right>^2$ are both equal to 1. The standard error of the mean is $\\sigma_{\\rm err} = \\sigma/\\sqrt{N - 1} \\approx$ 0.063 ($N = 250$), 0.02 ($N = 2500$), 0.0045 ($N = 50000$)."
   ]
  },
  {
   "cell_type": "code",
   "execution_count": null,
   "metadata": {},
   "outputs": [],
   "source": []
  }
 ],
 "metadata": {
  "celltoolbar": "Raw Cell Format",
  "kernelspec": {
   "display_name": "Python 3",
   "language": "python",
   "name": "python3"
  },
  "language_info": {
   "codemirror_mode": {
    "name": "ipython",
    "version": 3
   },
   "file_extension": ".py",
   "mimetype": "text/x-python",
   "name": "python",
   "nbconvert_exporter": "python",
   "pygments_lexer": "ipython3",
   "version": "3.7.3"
  }
 },
 "nbformat": 4,
 "nbformat_minor": 2
}
